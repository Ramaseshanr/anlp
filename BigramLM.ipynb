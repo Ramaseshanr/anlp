{
  "nbformat": 4,
  "nbformat_minor": 0,
  "metadata": {
    "colab": {
      "name": "BigramLM.ipynb",
      "provenance": [],
      "include_colab_link": true
    },
    "kernelspec": {
      "name": "python3",
      "display_name": "Python 3"
    }
  },
  "cells": [
    {
      "cell_type": "markdown",
      "metadata": {
        "id": "view-in-github",
        "colab_type": "text"
      },
      "source": [
        "<a href=\"https://colab.research.google.com/github/Ramaseshanr/anlp/blob/master/BigramLM.ipynb\" target=\"_parent\"><img src=\"https://colab.research.google.com/assets/colab-badge.svg\" alt=\"Open In Colab\"/></a>"
      ]
    },
    {
      "cell_type": "code",
      "source": [
        "#This code may have snippets taken from the Internet\n",
        "import nltk\n",
        "from nltk import bigrams\n",
        "import matplotlib.pyplot as plt; plt.rcdefaults()\n",
        "import numpy as np\n",
        "nltk.download('gutenberg')\n",
        "nltk.download('punkt_tab')"
      ],
      "metadata": {
        "id": "E3SUVHDJMSj2",
        "outputId": "8e2c6bf5-5041-4204-9b15-0f0578c4259b",
        "colab": {
          "base_uri": "https://localhost:8080/"
        }
      },
      "execution_count": null,
      "outputs": [
        {
          "output_type": "stream",
          "name": "stderr",
          "text": [
            "[nltk_data] Downloading package gutenberg to /root/nltk_data...\n",
            "[nltk_data]   Unzipping corpora/gutenberg.zip.\n",
            "[nltk_data] Downloading package punkt_tab to /root/nltk_data...\n",
            "[nltk_data]   Unzipping tokenizers/punkt_tab.zip.\n"
          ]
        },
        {
          "output_type": "execute_result",
          "data": {
            "text/plain": [
              "True"
            ]
          },
          "metadata": {},
          "execution_count": 2
        }
      ]
    },
    {
      "cell_type": "code",
      "metadata": {
        "id": "qObtsZDj1yXr"
      },
      "source": [
        "import collections\n",
        "from collections import Counter\n",
        "from nltk.corpus import gutenberg\n",
        "\n",
        "# corpusdir = '/your/Corpus/'  # point to the Directory of corpus.\n",
        "# your_corpus = PlaintextCorpusReader(corpusdir, '.*')\n",
        "\n",
        "#compute the bigram model\n",
        "def build_bigram_model():\n",
        "    bigram_model = collections.defaultdict(lambda: collections.defaultdict(lambda: 0))\n",
        "    for sentence in gutenberg.sents(\"austen-emma.txt\"):\n",
        "        sentence = [word.lower() for word in sentence if word.isalpha()]  # get alpha only\n",
        "        #Collect all bigrams counts for (w1,w2)\n",
        "        for w1, w2 in bigrams(sentence):\n",
        "            bigram_model[w1][w2] += 1\n",
        "        #compute the probability for the bigram starting with w1\n",
        "        for w1 in bigram_model:\n",
        "            #total count of bigrams starting with w1\n",
        "            bigram_count_4_w1 = float(sum(bigram_model[w1].values()))\n",
        "            #distribute the probability mass for all bigrams starting with w1\n",
        "            for w2 in bigram_model[w1]:\n",
        "                bigram_model[w1][w2] /= bigram_count_4_w1\n",
        "    return bigram_model"
      ],
      "execution_count": null,
      "outputs": []
    },
    {
      "cell_type": "code",
      "source": [
        "    model = build_bigram_model()"
      ],
      "metadata": {
        "id": "loLUtR6sNL0e"
      },
      "execution_count": null,
      "outputs": []
    },
    {
      "cell_type": "code",
      "source": [
        "def predict_next_word(first_word):\n",
        "    #get the next for the bigram starting with 'word'\n",
        "    second_word = model[first_word]\n",
        "    #get the top 10 words whose first word is 'first_word'\n",
        "    top10words = Counter(second_word).most_common(10)\n",
        "\n",
        "\n",
        "    predicted_words = list(zip(*top10words))[0]\n",
        "    probability_score = list(zip(*top10words))[1]\n",
        "    x_pos = np.arange(len(predicted_words))\n",
        "\n",
        "    # calculate slope and intercept for the linear trend line\n",
        "    # slope, intercept = np.polyfit(x_pos, probability_score, 1)\n",
        "\n",
        "    plt.bar(x_pos, probability_score,align='center')\n",
        "    plt.xticks(x_pos, predicted_words)\n",
        "    plt.ylabel('Probability Score')\n",
        "    plt.xlabel('Predicted Words')\n",
        "    plt.title('Predicted words for ' + first_word)\n",
        "    plt.show()"
      ],
      "metadata": {
        "id": "x3cYdwm9NHfP"
      },
      "execution_count": null,
      "outputs": []
    },
    {
      "cell_type": "code",
      "source": [
        "predict_next_word('how')"
      ],
      "metadata": {
        "id": "6mhAw86PNR4i",
        "outputId": "bbbf81b9-e9d3-496f-de00-baa7068d59e0",
        "colab": {
          "base_uri": "https://localhost:8080/",
          "height": 472
        }
      },
      "execution_count": null,
      "outputs": [
        {
          "output_type": "display_data",
          "data": {
            "text/plain": [
              "<Figure size 640x480 with 1 Axes>"
            ],
            "image/png": "[encoded data removed]"
          },
          "metadata": {}
        }
      ]
    }
  ]
}