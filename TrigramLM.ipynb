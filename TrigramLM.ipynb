{
  "nbformat": 4,
  "nbformat_minor": 0,
  "metadata": {
    "colab": {
      "name": "TrigramLM.ipynb",
      "provenance": [],
      "include_colab_link": true
    },
    "kernelspec": {
      "name": "python3",
      "display_name": "Python 3"
    }
  },
  "cells": [
    {
      "cell_type": "markdown",
      "metadata": {
        "id": "view-in-github",
        "colab_type": "text"
      },
      "source": [
        "<a href=\"https://colab.research.google.com/github/Ramaseshanr/anlp/blob/master/TrigramLM.ipynb\" target=\"_parent\"><img src=\"https://colab.research.google.com/assets/colab-badge.svg\" alt=\"Open In Colab\"/></a>"
      ]
    },
    {
      "cell_type": "code",
      "source": [
        "import nltk\n",
        "nltk.download('gutenberg')\n",
        "nltk.download('punkt_tab')"
      ],
      "metadata": {
        "id": "LgvWwi5oJ8jn",
        "outputId": "6d82c3f4-2483-418b-c076-08627e3837eb",
        "colab": {
          "base_uri": "https://localhost:8080/"
        }
      },
      "execution_count": 1,
      "outputs": [
        {
          "output_type": "stream",
          "name": "stderr",
          "text": [
            "[nltk_data] Downloading package gutenberg to /root/nltk_data...\n",
            "[nltk_data]   Unzipping corpora/gutenberg.zip.\n",
            "[nltk_data] Downloading package punkt_tab to /root/nltk_data...\n",
            "[nltk_data]   Unzipping tokenizers/punkt_tab.zip.\n"
          ]
        },
        {
          "output_type": "execute_result",
          "data": {
            "text/plain": [
              "True"
            ]
          },
          "metadata": {},
          "execution_count": 1
        }
      ]
    },
    {
      "cell_type": "code",
      "metadata": {
        "id": "QpDoa8xnsPvT"
      },
      "source": [
        "from nltk import trigrams\n",
        "import nltk\n",
        "import matplotlib.pyplot as plt; plt.rcdefaults()\n",
        "import numpy as np\n",
        "import matplotlib.pyplot as plt\n",
        "from nltk.corpus import gutenberg\n",
        "from collections import Counter\n",
        "\n",
        "import collections\n",
        "from nltk.corpus.reader.plaintext import PlaintextCorpusReader\n",
        "# corpusdir = '/your/2019/Corpus/'  # Directory of corpus.\n",
        "# your_corpus = PlaintextCorpusReader(corpusdir, '.*')\n",
        "\n",
        "def build_trigram_model():\n",
        "    model = collections.defaultdict(lambda: collections.defaultdict(lambda: 0))\n",
        "    for sentence in gutenberg.sents(\"austen-emma.txt\"):\n",
        "\n",
        "    # for sentence in your_corpus.sents():\n",
        "        sentence = [word.lower() for word in sentence if word.isalpha()]  # get alpha only\n",
        "\n",
        "        for w1, w2, w3 in trigrams(sentence, pad_right=True, pad_left=True):\n",
        "            model[(w1, w2)][w3] += 1\n",
        "\n",
        "        for w1_w2 in model:\n",
        "            trigram_count_4_w1w2 = float(sum(model[w1_w2].values()))\n",
        "            for w3 in model[w1_w2]:\n",
        "                model[w1_w2][w3] /= trigram_count_4_w1w2\n",
        "\n",
        "    return model\n"
      ],
      "execution_count": 2,
      "outputs": []
    },
    {
      "cell_type": "code",
      "source": [
        "    model = build_trigram_model()"
      ],
      "metadata": {
        "id": "7IW1WhZBJut3"
      },
      "execution_count": 3,
      "outputs": []
    },
    {
      "cell_type": "code",
      "source": [
        "def predict_next_word(w1,w2):\n",
        "    next_word = model[(w1,w2)]\n",
        "    predicted_words = Counter(next_word).most_common(10)\n",
        "\n",
        "\n",
        "    top10Predicted_words = list(zip(*predicted_words))[0]\n",
        "    probability_score = list(zip(*predicted_words))[1]\n",
        "    x_pos = np.arange(len(top10Predicted_words))\n",
        "\n",
        "    # calculate slope and intercept for the linear trend line\n",
        "    slope, intercept = np.polyfit(x_pos, probability_score, 1)\n",
        "\n",
        "    plt.bar(x_pos, probability_score,align='center')\n",
        "    plt.xticks(x_pos, top10Predicted_words)\n",
        "    plt.title('Predicted words for  '+ w1 + ' ' + w2)\n",
        "    plt.ylabel('Probability Score')\n",
        "    plt.xlabel('Predicted Words')\n",
        "    plt.show()\n"
      ],
      "metadata": {
        "id": "qiia0flYJsIc"
      },
      "execution_count": 4,
      "outputs": []
    },
    {
      "cell_type": "code",
      "source": [
        "predict_next_word('the','man')"
      ],
      "metadata": {
        "id": "cmkyn3gWJjo3",
        "outputId": "002b741c-7e1f-4d3f-c8f2-e6459ba8324a",
        "colab": {
          "base_uri": "https://localhost:8080/",
          "height": 472
        }
      },
      "execution_count": 5,
      "outputs": [
        {
          "output_type": "display_data",
          "data": {
            "text/plain": [
              "<Figure size 640x480 with 1 Axes>"
            ],
            "image/png": "[encoded data removed]"
          },
          "metadata": {}
        }
      ]
    }
  ]
}